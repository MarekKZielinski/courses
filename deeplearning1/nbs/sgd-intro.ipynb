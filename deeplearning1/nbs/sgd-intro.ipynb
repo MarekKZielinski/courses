{
 "cells": [
  {
   "cell_type": "markdown",
   "metadata": {
    "toc": "true"
   },
   "source": [
    "# Table of Contents\n",
    " <p>"
   ]
  },
  {
   "cell_type": "code",
   "execution_count": 1,
   "metadata": {
    "collapsed": true
   },
   "outputs": [],
   "source": [
    "%matplotlib inline\n",
    "import math,sys,os,numpy as np\n",
    "from numpy.random import random\n",
    "from matplotlib import pyplot as plt, rcParams, animation, rc\n",
    "from __future__ import print_function, division\n",
    "from ipywidgets import interact, interactive, fixed\n",
    "from ipywidgets.widgets import *\n",
    "rc('animation', html='html5')\n",
    "rcParams['figure.figsize'] = 3, 3\n",
    "%precision 4\n",
    "np.set_printoptions(precision=4, linewidth=100)"
   ]
  },
  {
   "cell_type": "code",
   "execution_count": 2,
   "metadata": {
    "collapsed": true
   },
   "outputs": [],
   "source": [
    "def lin(a,b,x): return a*x+b"
   ]
  },
  {
   "cell_type": "code",
   "execution_count": 3,
   "metadata": {
    "collapsed": true
   },
   "outputs": [],
   "source": [
    "a=3.\n",
    "b=8."
   ]
  },
  {
   "cell_type": "code",
   "execution_count": 4,
   "metadata": {
    "collapsed": true
   },
   "outputs": [],
   "source": [
    "n=30\n",
    "x = random(n)\n",
    "y = lin(a,b,x)"
   ]
  },
  {
   "cell_type": "code",
   "execution_count": 5,
   "metadata": {},
   "outputs": [
    {
     "data": {
      "text/plain": [
       "array([ 0.4213,  0.8362,  0.2824,  0.4419,  0.6788,  0.3565,  0.5552,  0.2268,  0.8473,  0.6075,\n",
       "        0.5624,  0.3371,  0.0451,  0.7305,  0.1932,  0.939 ,  0.2033,  0.5174,  0.5831,  0.9688,\n",
       "        0.8669,  0.622 ,  0.2141,  0.703 ,  0.8779,  0.0796,  0.3383,  0.21  ,  0.372 ,  0.0625])"
      ]
     },
     "execution_count": 5,
     "metadata": {},
     "output_type": "execute_result"
    }
   ],
   "source": [
    "x"
   ]
  },
  {
   "cell_type": "code",
   "execution_count": 6,
   "metadata": {},
   "outputs": [
    {
     "data": {
      "text/plain": [
       "array([  9.2638,  10.5086,   8.8471,   9.3257,  10.0365,   9.0694,   9.6656,   8.6804,  10.542 ,\n",
       "         9.8225,   9.6872,   9.0113,   8.1354,  10.1914,   8.5795,  10.817 ,   8.61  ,   9.5521,\n",
       "         9.7494,  10.9063,  10.6008,   9.866 ,   8.6422,  10.1091,  10.6336,   8.2389,   9.0149,\n",
       "         8.6299,   9.1159,   8.1876])"
      ]
     },
     "execution_count": 6,
     "metadata": {},
     "output_type": "execute_result"
    }
   ],
   "source": [
    "y"
   ]
  },
  {
   "cell_type": "code",
   "execution_count": 7,
   "metadata": {},
   "outputs": [
    {
     "data": {
      "text/plain": [
       "<matplotlib.collections.PathCollection at 0x1c2b21930f0>"
      ]
     },
     "execution_count": 7,
     "metadata": {},
     "output_type": "execute_result"
    },
    {
     "data": {
      "image/png": "[encoded data removed]",
      "text/plain": [
       "<matplotlib.figure.Figure at 0x1c2b1331630>"
      ]
     },
     "metadata": {},
     "output_type": "display_data"
    }
   ],
   "source": [
    "plt.scatter(x,y)"
   ]
  },
  {
   "cell_type": "code",
   "execution_count": 8,
   "metadata": {
    "collapsed": true
   },
   "outputs": [],
   "source": [
    "def sse(y,y_pred): return ((y-y_pred)**2).sum()\n",
    "def loss(y,a,b,x): return sse(y, lin(a,b,x))\n",
    "def avg_loss(y,a,b,x): return np.sqrt(loss(y,a,b,x)/n)"
   ]
  },
  {
   "cell_type": "code",
   "execution_count": 9,
   "metadata": {},
   "outputs": [
    {
     "data": {
      "text/plain": [
       "9.0235"
      ]
     },
     "execution_count": 9,
     "metadata": {},
     "output_type": "execute_result"
    }
   ],
   "source": [
    "a_guess=-1.\n",
    "b_guess=1.\n",
    "avg_loss(y, a_guess, b_guess, x)"
   ]
  },
  {
   "cell_type": "code",
   "execution_count": 10,
   "metadata": {
    "collapsed": true
   },
   "outputs": [],
   "source": [
    "lr=0.01\n",
    "# d[(y-(a*x+b))**2,b] = 2 (b + a x - y)      = 2 (y_pred - y)\n",
    "# d[(y-(a*x+b))**2,a] = 2 x (b + a x - y)    = x * dy/db"
   ]
  },
  {
   "cell_type": "code",
   "execution_count": 11,
   "metadata": {
    "collapsed": true
   },
   "outputs": [],
   "source": [
    "def upd():\n",
    "    global a_guess, b_guess\n",
    "    y_pred = lin(a_guess, b_guess, x)\n",
    "    dydb = 2 * (y_pred - y)\n",
    "    dyda = x*dydb\n",
    "    a_guess -= lr*dyda.mean()\n",
    "    b_guess -= lr*dydb.mean()"
   ]
  },
  {
   "cell_type": "code",
   "execution_count": 12,
   "metadata": {},
   "outputs": [
    {
     "data": {
      "text/html": [
       "<video width=\"500\" height=\"400\" controls autoplay loop>\n",
       "  <source type=\"video/mp4\" src=\"data:video/mp4;base64,AAAAHGZ0eXBNNFYgAAACAGlzb21pc28yYXZjMQAAAAhmcmVlAABMRm1kYXQAAAKvBgX//6vcRem9\n",
       "5tlIt5Ys2CDZI+7veDI2NCAtIGNvcmUgMTQ4IHIyNzYyIDkwYTYxZWMgLSBILjI2NC9NUEVHLTQg\n",
       "QVZDIGNvZGVjIC0gQ29weWxlZnQgMjAwMy0yMDE3IC0gaHR0cDovL3d3dy52aWRlb2xhbi5vcmcv\n",
       "eDI2NC5odG1sIC0gb3B0aW9uczogY2FiYWM9MSByZWY9MyBkZWJsb2NrPTE6MDowIGFuYWx5c2U9\n",
       "MHgzOjB4MTEzIG1lPWhleCBzdWJtZT03IHBzeT0xIHBzeV9yZD0xLjAwOjAuMDAgbWl4ZWRfcmVm\n",
       "PTEgbWVfcmFuZ2U9MTYgY2hyb21hX21lPTEgdHJlbGxpcz0xIDh4OGRjdD0xIGNxbT0wIGRlYWR6\n",
       "b25lPTIxLDExIGZhc3RfcHNraXA9MSBjaHJvbWFfcXBfb2Zmc2V0PS0yIHRocmVhZHM9MTIgbG9v\n",
       "a2FoZWFkX3RocmVhZHM9MiBzbGljZWRfdGhyZWFkcz0wIG5yPTAgZGVjaW1hdGU9MSBpbnRlcmxh\n",
       "Y2VkPTAgYmx1cmF5X2NvbXBhdD0wIGNvbnN0cmFpbmVkX2ludHJhPTAgYmZyYW1lcz0zIGJfcHly\n",
       "YW1pZD0yIGJfYWRhcHQ9MSBiX2JpYXM9MCBkaXJlY3Q9MSB3ZWlnaHRiPTEgb3Blbl9nb3A9MCB3\n",
       "ZWlnaHRwPTIga2V5aW50PTI1MCBrZXlpbnRfbWluPTEwIHNjZW5lY3V0PTQwIGludHJhX3JlZnJl\n",
       "c2g9MCByY19sb29rYWhlYWQ9NDAgcmM9Y3JmIG1idHJlZT0xIGNyZj0yMy4wIHFjb21wPTAuNjAg\n",
       "cXBtaW49MCBxcG1heD02OSBxcHN0ZXA9NCBpcF9yYXRpbz0xLjQwIGFxPTE6MS4wMACAAAASsWWI\n",
       "hAA///73aJ8Cm1pDeoDklcUl20+B/6tncHyP6QMAAAMAAAMAJAL8x7+hB0M0IAAAUInP4LJXTUFR\n",
       "Bq1ViRE7nmVugr3qHwjjbq4yqtZnH2dD/PRH4qMF3383q0XiC6K7q89B8NNF+yB4lSsc8GA2Q9EM\n",
       "SZo46MPVl5rm6Gw5AAKX7mXSSiHH7zBM75CDTb30Sx6AHs0u73juPKWLQifLg4/0MX5qt9R5nhxN\n",
       "spaTBMtxZrmU9HqvW0Fq540L9EtOB9rox+FdvY70ddII41urU2hZ/MwGyfoTqdEKBgpM9y28ydN9\n",
       "XJeaPNY6bxDMp4iQ6OH5qGZV/yiw5NSF6szNTpF7fTnrYJRydWPt4ZTrBlwB2UyVvHOvEXZFdXMs\n",
       "+sxiBIiamGulcLdN8LdgxlfPAgpFfcSzYgAKSnP3vUx7i1fFFl49xgSVry/oBQKLvEEId8O4CqVW\n",
       "csZMX7Wskg1gk5XjyPvvOkscyyu1cxE4h1rsVS/cbdswR9DXhKA4CVy1YaaIcdh5epnbXAI3u5sY\n",
       "HAYim9UoX5y6P2un4B9DI7LLhYK2l7OK1VoBQwYtmdBQ+uXNxTPN3eQXSdrOVwv+V7yf8N8GSsVz\n",
       "kDg9H3wICunnqAaU/+xaGDT71z8Agk367LRmsjzPj9lm2zKOkiJksBYb1VLxDTZkclPRTqa0G6mr\n",
       "3ocRRXbwAiNOrRGFtonDQMXXoE0JNWZ5iZEW1nFPlZ5aeIEGmLHYt1YY1k5UgwwAq6swq02ViQFm\n",
       "ULxvNUyDqxdas517Omw8t+Hr3xDb3z9eFneABfXx86Mn5E+GLq1mSapD1AayGfp07m4uMHisdXea\n",
       "o/J9nX847M2z+yYiXdDP9XN6wv2+fpaRhbgCjg9BlvMy+UM2JZZpT1kCgnm+Ff6nM5nZWO995r9C\n",
       "42tVtBF8l1Ff+MQ+uc0+DRcPPO0Yzi+IuM25192LnZdCKItDUCKPOc6SFyLcME094AfSKzuTaL7V\n",
       "pfjGCED/EB+aGer8C9jaJgVi3TTRvocjmG7svawcXX+ebeJ8CKxqZNbLlwLiba8TtB5xqT+C/4Y4\n",
       "5zX/hLnrWcq6QhoAgwEruDAAe/wAIyg1d+77vsl92TdKHyzBsP3p+iCjS0LCdfX9k+wlTy8l/0Gi\n",
       "IKx8zdJRgb0pzg0c/dwH7ccnEhPuDu9TQTu7G9/C2pVKtSy+Q0EI//JnSd84vvdr8mNSpbhuhunz\n",
       "SNYow4AAEOtP5IFFsr9etzxvXajLC9iIK+ld7gQ92qBN0CpTH2UWafEOwdo66VSXsLFe88br/oA3\n",
       "TDwHTkeQu/EG5TuQ5e73YtNiU1w822Zq3nH4nvsjrzLY6qQgPtcbgYwpBJZezR4Y9H8VY74lrLE3\n",
       "Ywr8UVHfeI2hPROmNIitsWQHb1G4oKc0lSWJJ1I+L3EmmuGgwncmEAVoPqfbsfy8wVZ4wvyy1gmR\n",
       "2mK/FX+6nnJMMcES6mo0TspDIBh0s2rdH6K4TiFVP1Mef+G4/WFufZdVAVArJ/ib6ju4BK2ebdPa\n",
       "Hww6JDiboWVKQslnyHVuKMR+OCXyOkNKOaD0AORD83IcCyk92Kj22aYRpL32LbmfPdZxSiw5QYqm\n",
       "BIAWu5UNFLe3VwENJCOeTn1gJM2o3Mbk7B+NeWEqBD3/S0aqIfMs4CsK44jJI2DgCXqoAtvyZz1F\n",
       "sBdBPMgOV3TYgjeOFNAzvyHgei1FoqnTGTCkj62ukrXclxPmly89CoW7faZF2xnP5TrtHVBqSQKn\n",
       "SbG23vzK5NZw64aI/lGIjjVBWn2yrPsKUHrQSIKFMM40/2GbD9sqSrVbMoHWzj5LcAqKDhHeCgbD\n",
       "nBrtlZsjJL9gh64pmhLL+vRkO1S8eryAIPiDcDEG6U1FIaAEVLe1I4y4Alnv792L3QdRny+wJEAT\n",
       "78o4uEDXYT+F+IwZgEcz/jbr/JlfZCu56HGwEyNtD8fjnKHaAasU+owN1V7SXND05eNZupjEwfH7\n",
       "M5C91EQSyK5hOURVLxg0VvAGZDoRQfY/kYPBq/D7e9ZJwQbl/FNuj9wRqR+QYh39jUXnad6YQ0Vv\n",
       "G3mvsIxpp8PSd7PS/OVgRSC7drMYOBWTflFRgxX/ssXS0O/j89Vmu3u2y+wgOCfQPwqRGW4yfme/\n",
       "jzM3a41ut+2H5nAKImwln2LwY9qpbKjqmYICI3el1AvMctbJ3JqLvfrq8ktL+ALxgDgBtygtUaF0\n",
       "KlpEohDMPekQmbuCsOKVTNMIwpRZif4qfXGNvTke8FQt37iqc7enRpKtaCF9c7tGZJFL2xWmk1Ao\n",
       "+zOe/0LAXfb2p/VL8gvL+O5A55u9LdvJ6Ju1oA2uvof/Ym3MErCtwUVG0cnfsMsFzWeirJJ0O0AG\n",
       "ZvPeETGb/lN6iWsVvBV1IEgXFdsto9BtOi7JohrikRPNULlFcb+nhs95W/YLkCpPCgBLyrVZ74Mr\n",
       "1IMYpoEJIqSbVHm9wM/rDAlgPyYs7jQ8/NTadH/A8OPf48JW/7Z4vXp1Db2pIaB95Oo2N5RkDfWM\n",
       "zzuI87+zp1ZAwX2dXJJcQD8BKU3hV9yMADhSbg9GUusVymKh8vwRmfZtRR55BBalCNuVSjkuVSMX\n",
       "94Dt+NyBXhEtE6vDF954SdIRBgCCjcU441TDbbQ+DGGZv17qIE03+awFUiCXEYw/FqZCkXt5DY2g\n",
       "UNpcgYy82RKLBuD0RvaA2AmPCNRsv1Gt164CVSxgMlVNsAikt2S5Z5TZuSEMad1bAedwcSwYUbf1\n",
       "1HLPonKl2sbNQvXUYK8bb++UVpw6yjITeQsUGzncQJQM883a9Ae9CLqnYKBBIxEnxGRJ7LJCgE+d\n",
       "NMMlErWrGMrwZ4Z5JNdVpwL6zhKyWviWDfMpab5k7KuBpgDYHmfdEtOGQwnAif2YEA+sJL6k1Xl1\n",
       "tOOAFoNGkU79C7aGDRQwTU/ELsNeCe96w2Y0aVYxdurNl+Uib1TvdNpBk5STY07zHjgR3ZZUkA7g\n",
       "wwcUgLxI51n7giSH/Zd4of3DH5pK+IhfFvKhDA8MfrIqYdLs0ZYaSKWgYO6y8rsLFDNPI7XMizcn\n",
       "2lRMSvVkGKPnj+XwBlvbAYl25HMJW1CNu4xFh/hMpJyUZXvhSeQNFkypjwyT1wz8J1c9cAI+Y2Jh\n",
       "kZtHQ+Q8vLD0fa0Sy3Lh/brBqJz5ZbVyFhaFW2A19K25jqzMyQ0i+av0dQ4+usPzE8r1rZLOmATg\n",
       "MQs2YlZNfsQbQ2GGM/nm/N2jS/T7ZIc5CoJ+OwlXeQzzVtGYIvDI9CtDtYfvBxlrxaa2nItI6ZMi\n",
       "BTx6bsX2bvuE/h/B1UgRSKGo2kKQtTXIiNBjijhq4CKRcCDFicPA1A7aytrm6Ro8lwFmUAW+56TH\n",
       "r9IKUt/7M+GQFgPQJyUoVJhINIkFga/uacsxKUNlYg92PLl+d4j/yrhUWMjeAhVrR3jKjV6SXTbG\n",
       "VYy+kMOI2RSk0WjPIjQTDPx9JeKEXEjnTSEjYO2B3IYMkegmEz61i7chD1TeTQ4A/FVA8+TdVQVv\n",
       "2t/zKkbxBNi3M4aQLgL818ivX1k0ptXDlY4JtF22w5/bJffLJqrmQVda8dbgbTfST/++bZk/Au/2\n",
       "XAmy7Jqf2+ZxQKZ3B+UA3zxQBlE+lKs8BUubN+2KA/TpX6pZNUjUywkePrSTEOiUGNVzOVJZdg9k\n",
       "vfwkYupl0IJBw1jLRtyV/Y8k9Ihl8fIts45s/Fpo7/RPrBAQHHyE0xGLqC/PI605NDMwdFBw9Tdy\n",
       "HDUSFiJOILJuPF6ikQZQa/4cc+kzx+/kZkK+ekDwBcaVAA78OgXtEyZty8cqjMrJa2HRg1yadgR3\n",
       "dMZjsEXVLt3yeJppjCx2bC31YCLI6aVgRG8VtDcV1dZzqEi91jafkqP8W/7ZClxrllGx5g858K0e\n",
       "f0w5sAjp+BIoRVoa852pr3iULcW4E4r98cErhpf8NEvNSkW1ANR4OeXkRwc0AEIJ5xlVqjxgQguI\n",
       "fZmQEpQ2v1sTdGKdyH336TzzXeu7KFICik1tP23ViU9vIH7/+iPkf/f6lHXqH4PSte2QdfFbeqs2\n",
       "ry1yUVhVr8hwK03Lk/8nOBDVi3aNZw0mENCuR3/+SWeBCzYRphPnsX8ysULk9NMI0sUHpP0hepl0\n",
       "HUrTFZfOVUvNzJdn7XnmTLCpvalR/oDGcbpC5cU9epfVxPC+3Ii3SymK/HC5JfWx46NfcaX1MkU+\n",
       "uvSz3797cWN5ce1WNSMCptBJyo0KHzg9JAHzsybbCz0QxLP+d1B4T24nixPp5Ro2UvUx1axABiDM\n",
       "1y0WQWLM4tprZk50byLXpojBLrkhdVYeguLrvF/2SDA1T4GAN7tDh+PYgbFkwvUi22VV+u2hhXXz\n",
       "w5AyKy0QokDhUGo+6UCFdUEtiPT0pP+ckCiaZrSF5Gkd+H58dGQwR/vQB9USKVQaEDJMUunMEj+R\n",
       "vDCirtAaE+sNKms0pZNTabNyxa5LV6SyDjlCiDRwgEiANTGxBHu7AFULbkzFLCCV7AAAAwAAF92k\n",
       "IsXtxRnHlEJih2w1k3gnjI+W7Jo/FhWBYzU88ilUgZm0vHQxdHOe17AB7gXPZoE892wS3xGsABgH\n",
       "2pf4DP8XBuH9cX172qEP0s2xOef93ydoskjcWbXskED/oE9xf0NX79V7lAFot9ai69zf7+oGXtEw\n",
       "d+4n7P1prTS2B0umNNgovOBjrxEJvsNMH0BCzQgdukvbZuipmwZYq+2n41N0I80HDYRnAiIP7ndi\n",
       "PfZ/EER+tluaUNHjzcvQMMdwJIEX+UuPClVYC0tfywKiK9rVpdDdlfLpkDqVgP4dohPJW7AN+D4B\n",
       "YawvYbyf7Mlgs0LN/pOcGZ/Mc1vfuLKieu7itMN27gPpYE3atzQcwv70A60DpqGkmLw46iC56try\n",
       "KRqQCLfyTq8HvxtU1SBiaFgpaWKFIr9brGWimZD+LWZ7RT90W0iaK1uB4z6i/Z/HuAAHW6jRCdnB\n",
       "Rl8gDZ8ENQQyKCnQtkGHSqexPMw9aCvfGSt6JqitN3997cCQuc8OgqYYOEEJW7PQokMQrsfMM4Ke\n",
       "K8mwrob4teRhXmewE7nrGEXxooX1OSE//HWCogWcoquuvf40SDimIVrm/YvPNkImnAnie8MBn9cL\n",
       "CEmomOjjTGoIvkgy4znosOgYqSggmGolP5rSj0WA+A/LBZeZGaagzFC6dA9VkXkqdO16ETbrnDtG\n",
       "ta/wLD4RNsRGAFiXvIVAx/nt+orPPVAnEQwCK1dt/5cm/crWswJsK9Evo49sS9N2gcmUySiD1RcJ\n",
       "2JhQLuWXF90A7oWuaL4dXF6dzyiEOJoZvDTTTBhlfL+FXXSkXd+mMc5asSrajE9/7GenUHNBvIi0\n",
       "kWhIoC+rE1+3fKtXmY/bytJwn3k+h8FX4NoO4DpDYBMttu0E6sxRoZhE8TC9Cr/ocbv/rlWsbfcG\n",
       "mSt9s+VO/nj44Jl1pt7LP4miIDq/twbiEDQCaipAZuu2gSOPak2K+ymK35FMnJXOsQzQRalXNihP\n",
       "srtJHUDmn9Q04QCVzeE4JIJeEqPROJKJ8mI9BeDS7GKbuInx20jmwdo78y2tkU3V8O51MpcoWZAi\n",
       "UHcBlCjI5eF0IKxnByOFKOobRgqnRbOY1PmYerUvGn4if3zlWguVn4usqzvf/kydOOZRWpcautOe\n",
       "LdcDIvidCzD2qjhgSqakEtmD31vonXQqZHyd1H4YCno0hasNjRH5Z6tQgZyVPpqM0f6n3SFZU0k3\n",
       "prxGWE8Im0Oabf6QfbZaP1LbadEgfLWLvvTgwUdjeXmR2Gbwa+9yBg5ldC7pQf6oOQLNgSdEqL0C\n",
       "4TTsaUoJCv5ZBIg+EgABjcJO4T1WYmM4HsyuRegOonNpC8HwZEvKmy8pLgNIjfzoYoaLPj9LxoKQ\n",
       "cHuOAs+eh/sgPgOqIY0LogKxfEtjvpBcgvZQfD7fBfv0wkfFrfLjaIUO8v5CNo0nHda0DJQCEiO3\n",
       "8pMURkeQVfnG4d7J/HKZ+e8yObCEiZMPvnmQYLf8d6MIWj0I9B8YzOCiYS34wTCX5HrpyuNfgKxQ\n",
       "l8dizY1pKPW1aV34On+YcuIHjf0yqC7NmRMm/XFmZX1R2u5DQrkf1AeE6lQAlvRBLvm04UskU50s\n",
       "YLUy55mLxscDsMVcdtfeko6XbjSKTmd7Dz0aCMx08Sonf/JQh+hKISQogJrsnCzJRHZYYrx7LqbV\n",
       "5hVAIpbR/itjGIr/Ts2LxcmRZFYeV7vpyFpQMxPBI4isLKlKIT0pnHJdHCfRgwkrMhvKlfOnwe5I\n",
       "ZnlwVdDnnaVLisxO7o/2mQZ3dhTK8ZoNswUT+UB53qLy7sDrH8FbSjs0ZE3qBx4SYndFZ8/eNN6g\n",
       "q4fclhXunwLavSMd4ukx+OXNZXgYiwWoxRZhjqyCM2crTQOqnHjq0dAGo93mAAmKIABiQQAAAhNB\n",
       "miFsQ7/+qZYAK4H0QDN9tjFXoN6uzRBf8xHO8Y12dbncrUd/BPTUGM6Gozdip1okZMvsjPDu1lPp\n",
       "cIVwCypiLLbWd7KPK6WLgVTrhY6b4Xj43OvzhDJqsEOVPSZ4YL9DHuvpm3ud8E61JeO5A+ojR0LN\n",
       "U4diAxlTrGpaDPQYKiVD9+g1D6RM2ezk+Ra05kXzVuqUdCw1N27s4O4z1v5yHUOfyJQT6emOUUwi\n",
       "Olpz0rzZ1pdUR1lHQpmo2THy9V1OwtcW6hHpS1xa9PIAS8gszFLtsItNQ0AW3VPh45Ka5cKynen+\n",
       "T+SwmxIrY5NpDBrIGF891IdaPsCG41stnZFD+D1gyDEXvAE+/H0GzVYiw13hAc4RD3LpheArSkxW\n",
       "vFb92/wGQfKHM4aKaFbg2jbYa3ekB+16HrOlMlKJNiEMuaupolMGJ1qdVYvZ3SUmkAQ4NJnXH/Qj\n",
       "zJINZjisznfzZZ5X3qp6B1D/NgfQr0+s6ASHroSxq4c/3Z/td6UodVxXvqPcAfn2MdQcWimRLqyq\n",
       "1QOoepI/hSERpgy7fLO9/Tc7s/HyAJIyLPL/knZJd1SVJWLwKF3QWpav81ONg50XRk+JoYOgmSfb\n",
       "5BSFdMtiQ33vVKvk52rRKJIH9oCVgAAE4AAAAwAN04QG7sAYyHzARzLRmoYB84dsFQvlS/J0VIAL\n",
       "OQIhwYze1Fw1jkhs+lzajuAAAAKRQZpCPCGTKYQ3//6nhAAAHn178Fm/uAG6Hajo3biqgGUpHOHT\n",
       "2B4x2EmD1YQAQlChDFA8oJ91HjA6vLVoLCTjDF0QpHEKzQE5/EfQG7OPARZW78LvfWjTXYR1wXxc\n",
       "EQqq7UgJKG1ETmPLpFsbz3cSG4I7OQKUi1jgoN0QQ20a45nHhW0ghrDxjHKF+kxIcFthSjl6QZFu\n",
       "P3a35WJ34WmUe7ps0VnRnmYiv7NqqqDMEXTvTiFf/n+t0Eom8sxcy2RoO9nMNoIechPwgPgmMjvr\n",
       "Hng3oyhnyYVyqIOFaoCPogvUDTtID1IcDoSp72M5Gti/TjM32K5l4uItNovrTWDSRjlaNmuo4F9v\n",
       "gEJCYhdngHVhL7SodXAqAIq5c4U2mtF8+aaaDrMo7GueOaDrznLAxm2+wEUVUBSnZ3CyfxhAtHns\n",
       "Bn2OvD7PySMphmHxc10aEHCr2ClY6O1gTKKvLpirGBJI7DGj06A0vqtq20EqVa3x5Gb4xuHy4Xmn\n",
       "Z6YtkiZyVfUaw6NBVdcpBwBt1zJAmCid6b/lAh1FTjPGbomtcq1Epskq6CskzneBSmrZlOj9zIyt\n",
       "MyWiGE47atnb/dwtTZ0ZcP5++Pu7nCtVopgOY7Zu3LnCSf/DVcHx/GezZR5d6RPZgSssUUKABwwH\n",
       "Au/B1MuZSy8hSh8PaI0VzVxPRBUWLCRFCIv6CEdSC2u9YugyW7kgu34mYnhOshXcYggVvkXpJT8P\n",
       "xt+ctCZKNbCgfqJMxsBPDwcIgkISC3uAL3p20VDGmZ70W76V8eZbnKtWHIzGSVD67L8xGy1N/xfl\n",
       "z+GK3wPY+op0lEjnbL2B/HT3bPbzWoJXH+2QlQj5txPQ6LfluNUpssbd4Fs4LZgTgANnAAAD3UGa\n",
       "Y0nhDyZTAhv//qeEAABatUAF8wCzqNydk7F6JdTGo6x+AiOyWQhOW+Wz4PZJ2un4LH0BsdazXrcu\n",
       "71E21cRp6f8203nuiSJvm516C17XVVXb11KKnOdhnKSCfTksJtNeMg6Zgj98eDntD6T1oLqv3UQO\n",
       "c+AKYv9zijL4fcWBk3vqPT15rUCeM8PG6w2ktAcw5GqiNrinQpAsqD9LuNzkoC+Nw/E8j8tYAwqu\n",
       "mRGdnRuVOqtan1AMLsJMFbWhbq4Y4Earx988ayZUVwSiy1KnrnSVKx8tK97kpiILFPTLSjPn2kHN\n",
       "Etp/95XmK0mv4546/lYDxxeYTi6YZ/99mjN8SLFxAPRk6BEgfHdCcuMrGhtVtyH0LfcANxupoWMT\n",
       "0gszpDMygzzQkYL9k7wgqPB+LXitUIUV8FJx7Hl5Vtc6syIsCjbiApCL0gLITs8kX3WH/TMzpRBF\n",
       "wjV86aGd5NaM/RJEMGoeXruDIopLv8sk3FJaWDWxxzc1vTRJQic5MOUCGji5LG66UzY6p8LE4YPf\n",
       "pER3/yx76ele4+Wif99+jaYdmNp5dwogNaZeMQvJ43Uy/ELEdASxxnrLC1xcPIFERyIezZddb+3T\n",
       "8RA/5bA2fxdd2Gf5GgNansAp2cOypdhI8PgXjPmWNsM77wbp4bpmwT4J8jyUwhzeyALo2Dm/g4B0\n",
       "rzWOrEaaQP3Mf0PtN3wLw7JXHKw3JHnIE2QoL1Xni4zXaJbT1rCjimPGkXLMurTIK8Owk1lpnJJJ\n",
       "iGaJlZuXp1qt2/K7hh1YNHiDl2H9nAQ4BzfM5XGxg2hOx7QZgoq/nES7wjaLibABvDm2ZY8nz8cj\n",
       "iLUNcXgjMIKKlYVB8zcH3BPtZHXbzj9VSfnZO63xqpSSzjWRhaOo/ReWwUI6ZIzTUm/BRudyaDH4\n",
       "cGFWG1DeCa0f/5saLwS/Gn/vCBhWD9cE5qgA/zWacwkWGf15RJh4e7lrtXIXDwehnOiLSosfxQgl\n",
       "WG9ElRfbzX1VPtJN0wKCF1y1Le5Faxj+TMp4gW+8SjLvkiBGKM2LgKN/niMkZ6nRCnDywDRLNb18\n",
       "292FJndP3Bf7pwHIVtTfiL4rUDCPchmee8MNNVksLupEzoJ0yYCzVVZmgMo7Qoy1pm4yxFlv10CL\n",
       "C3sUN+bIr2xlofa9gdMdCnGLdgNFJGZvmaGzthlJoZsi1JHxYKWBcVdsrI0ojyPTzsdkcmbontjk\n",
       "VZizR8zpEMfB7dFiEKOzaxBkUfpaNl78kjH1+vr5hACwEHmtZ+v6iBEDYO4T+is8fiGUGefIBre9\n",
       "v4jN44MXOX/AHMuYPTeYAF7AAAACXkGahEnhDyZTAh///qmWAAC8cLfhHKxAAulDylK1yN2x7x5z\n",
       "hZ5sIVb1LonVQHs+9IZsfhokg8h1eOMbzLpmHnkpVjtv7idfEe6LhtTQXHXIzyr8c8t/lNRxOjxd\n",
       "hCXAt8XIBLzo1qNrImXrtcxY93wQEIG/itgCvsvUW3WxfW06mRBogStO2cUAZ0CZh10fcku+4bX+\n",
       "6/f9HD2QbXhTM9+ldpgVHFiFPETvFpIvzjVmj5qzJIcqyCYJKSqhIs1dRiawLsGibS0zsoRx6Rn9\n",
       "szb7gwpCAwHekwM/1pPE+7JrRPZ1e8hv71rPSEMeCJVHmAEFw9Q6QXOToQDTdsr8C+LKs5blDC/R\n",
       "ETnyRh3fwXAJa0MAa/T3cCr4xqAsOPdJe/PHhNbMC4vrtWufC/UArnhyRmg1c8Hg4pSovg6Dj5oM\n",
       "gxsFmcL+CKx/P4jVM9xLtT3gIvKyOoEEuQ8pM2CPoMKu/ME1y1XzJcTwWBVGK76vHdazfyDjN7Ld\n",
       "HjJRkNTHeuCIksIHxFUUprIjUCtTjHI9TuoUfkaGf22ZW3toKpytaYZM6h8fzQYNphwtm6eZp8K5\n",
       "Bl4rwO/1MDHvVyMBpVYMmdq0zQJJHmnplIVOV2dQcfKmNaQYceAXiLwVffS50Fm+EKgCMuODqG2t\n",
       "zttrInSQh+Z5v5F+jj6JXB4cdj3+zPHc2xEwF0vKlZUo+2qQA3WuMLnpnlbM2eZ4xT1qtqLrK0YG\n",
       "A7yGyhOqeReEgh6f1WRerXrG9eGsIi+/jGLSfBvtlhrCLXU/jzSdvQFR4FMJR47jX+RdllwAQsWR\n",
       "MQAAAaRBmqVJ4Q8mUwIf//6plgABtP5ZKJChwRb3hBE/PR0/h5WiAC3rsrzSZTDYUAG/L02d/TGc\n",
       "h5P1+E85v99nAvaBrw9VX5AfMMn3A1hbRIcYAjaDWHoovGqtQWMGmnqNclZjuvUasLiLTDXotmEV\n",
       "5wdmM6wlKNK+E9fUXAs3X3K/0fJv8To9Yi1te89DaEeojG3W3oW96PAtha/O/0BnkR2QlWP3zqxe\n",
       "Scj01UI29vYzix/U4OBiq9pDkmDPdxfqkNgEDK07z6f9dv2xrTxAtIxwVELF+x1RL2aT1SKO/zMy\n",
       "dK1k742aw/1cil6kq47BqlOQK2cixcm3QyEcDdkgRbxPT3GxPtzPfl8isUe0PMAVFdwI39KkJ4y6\n",
       "vqGVCpF3uIx05PIt2N1x17850cSsSD+XBKBxPdnCWLzHMBGzAAt9BESLte9oYItDFd1NFQoXRn5V\n",
       "YoP5sli/tzZYZ2x7PRbiety1tTjcGwOlZjcFk7+uoVsWDnfD1AoQJJi1QGARwBefRLCjnXz2978q\n",
       "8OE+fWgnZaIj0jwZlON9hVjtdyiADbVYXcEAAAHcQZrGSeEPJlMCCH/+qlUAAO/tL+CdygAuq8r9\n",
       "6Qsv6+k6Szicr/J8a6TCKCVi2APokQqGPBWt5233ixq/Bv/ZT6naywra6ldKo6m32rjmIj8cikHz\n",
       "gZa7MrOILgNlTe2sv7ZX/pDck+GBEECNOqICoObpk2jFEEFpJs4MY8TWTeWO8v125ckLUKrhUJcg\n",
       "Wj9+MqLfQNG1wbi7r55xoj5gtjI4jMwU41ndl8xKBYgqlZ+q+fuQBYNQE0X8/+DhODxV2TXBySUL\n",
       "Jm06Ow5gt2v4P7yWI68QcnbvkubCAK257V5S3z+njhrwHtG0+/QU60fk4GfLOEoEd15cxkg74CWb\n",
       "zdBz7VfBpSXfvCZPZhchx7WsDcsgj8C7vkw5ZOqeVyjBFCRdlxDSJPqP1mW9EDDawl5gyV85JQ9O\n",
       "hyQRHitSbWiNvS0LCrd7/CLpUg+Of25VhW81WK9GgkiMd70fw0/EcAGboM6XCXSmRQInYFqOdqcA\n",
       "yo6gd3y1zQkZ126XSg6rpBaecqt0QyDkADlG8DQFIbPtqjUre4TAG1pb/tJn0m7DG1Um2umgSUvB\n",
       "9X0+RUjrhmi/zQ5WN7rpMpu1HYpGbb+GW+CgRIrxP3DMNx6e80Y/zMK9lMLSohYlhH0AAAF9QZrn\n",
       "SeEPJlMCCH/+qlUAARA+bUGhhgI2prxIY8FRlRtUjp7ACWJLdqxnNo5ijNoayNAwp1q3fcrnmowZ\n",
       "/T2AO1ArlgyalgdGOrD3Yw6grlBWO92X80/wYLA748+ipCpSTfLAGDJR+e3XzFgNG1R55lvVEH9y\n",
       "Ra3cf0Ob9I5NDOOx3pzRhctlA9xrYTbW0WOB4Q0TEAOVx904y1rV4aUsDfEh986MFVzxaxRAdZwG\n",
       "OQcGjJBixCuH2ojkQHFl+ZxrBSy/cjVPsvRTYmN3z/NYDnwLq8E6CW1RBKmVR3vkTVZ3VkqK2UaC\n",
       "zk3z1ZJ8sGC6KDwfcZLFGvSo16MgVinfF+3OBd6y3ACPFSh8UfPhH+zC1POZ1g+gXgXHOY+rP/EF\n",
       "rlGUG5NLiZf3u2L96tTMnO/nG5+nxEds6Vm5EU4WMSfbPuebQtACA3RCeOO3Yf3Evv8Aaqg8S8Qy\n",
       "p78kkyRPiaB3LRoA9kK8viOdLiYhIutTwXc5h415fFSw9Qg5AAAB2kGbCEnhDyZTAgh//qpVAAJD\n",
       "1Pg9147z560uIuCzAw+8SjjrhgR5wjo+zMb/xMwVarRVUdz6WAUuIFAAX+BocbK1LLINIX3ISriP\n",
       "MpBBE4fUh/S1AkNo95MOA/eDcMCXxeL4QAV+GOPpsn2mlf2jg4tXV6IMRuM7IINBnZ8JBjkcMRA5\n",
       "tw8cnVaRncB/wHmKpiJewMfporn+6BghpbtX7AGzDnzPQIynx+kua8ESpyh4x6jqiWCiOhXOzT8n\n",
       "NumrKu6oq4RAM6qtI/azeFr/5w/Afu3S7TyO1YHgbGG5/2FBq85cuGPRu+TNCAxLXweAsb8CZFd3\n",
       "ujNyHe0VfU8yBlFUFVn9I/JsN2STFuoVmNU0q9lajrIWoEkNtHbaUPs6AwnNXX99uiXdbH/fhXSJ\n",
       "0rzz468YPS6+I09cfFAo/6D58Rfg/BuE3YIYCEFEv3Kb6JqGBY7P/ntvRWrnP/wFjI3aXM+rL4sE\n",
       "WpCL0ie04AZ4dgAf+IwfXVISIG9e1ncYxCSuUHav0bfqFKW38LDbkK+iGO4mPN0mAMgfLi5eCyQW\n",
       "5WS1lSUYsKc8NGaQruH0XyBGvaVzk9YziyoAwWeWYjLqVZWS7xplQwXPmFiLji+1spyyZ3l2yZIV\n",
       "8AAAAcxBmylJ4Q8mUwII//61KoABKQVef/mbtHUoAE02tXloqSL7VozJsPr4b5ITYnl7q5BbUb1W\n",
       "GxqJcbYc4pMji977EFqYaz7KQ7lskzjJ0q4J3TgBc3uG2Dg+k/yI0BucmM45ibRi4AMc0nL7l8jS\n",
       "WddHvJHHrChYrdKq4ANHkuSgKS/aMsvlaBYlT2wRRsPi2uid4kGljG13TqUF7q57/pIM69aUZ3O3\n",
       "0V74T7I75Ccr1eJWwLBzRXQ2oGnBP9+5PHD6R373OIS5fDosPm7cVkxLEOclqxE3NIqUAvruWSH6\n",
       "2WlTFbX26sc0iUHB8OEOqvgm/+k2Jd4sZfGQquO4PTPfxvCbbpNQUfUy9HRArB+9ER3Xy+5kdzrd\n",
       "nEa6GKoqisIgKWdaxNN2ht//8P4GBtvx6kV08txeNr92UiCr5TbphEDcE7ZbmyJquDvQzKwP7f2I\n",
       "fP230sqw4bhRyTD/vJcg0Spk53WgdksB/AC17WBor1ZW+CQ8BR1oM3WG/8me2rymCIMb7tjxZy1Q\n",
       "BzASlW8gHM7M1m2Gn4z2alZ9mwdsHMhlpEGDUkMabf9sfpGOMS119GvUF7qn0N+B4laX97Bu6Dc8\n",
       "JjuMD+agHwiAAAAEEEGbTUnhDyZTAgj//rUqgAKUT9IAE7fRdhTr04ca2HnX00QpxpL70Z6KeipL\n",
       "ol81UISwDUH5dDaC3uUutJt90wd7sh6CRLXbHPZRytOPIBXXheAaPQKID5orS5wqJLPtZ5oOA9Pd\n",
       "DkhDj+X8p6pjC5t5cMDefN7KtJ1YmucI0wPSdAI7Gi9kiiGIzCt1wPIlhoos7G0iTzvKAi26mdai\n",
       "c821/i2q+oJZ+52gNxS91q7P/4ADrcxDnGkgUGwACPEKdnhXRM1z/aeobaAXn8/jDi/f40McVlW+\n",
       "o7F5lJN51GVwu4n9IoNCMbYIr+RLan3aM4C373FLYSl3sD2DqArP/UHp/MqnzkfqL5pi1JH9g+EJ\n",
       "ppYw9tFfCmF8dnvrRe/XEnwH/ryLaR6HVBL1Du65KxzfISI+wTB4Vdp7sjjbel6RSsF1vVxIhaq6\n",
       "jPfdyP0VMxEWVobMeQT9+rjv20EJkTfFcG6rul3cDeMOKhzTTIT9DWt08cQFSrgy2zAw5iIXVrzM\n",
       "+MPkcuIaOq9rTEtFJRpwpYHMvsmq9n9K6sxj1OcDlXHP4D76S7ZuTFNvyaBXcoH3m5WtaAiABJFP\n",
       "bO4xpf+BwvRCqlDAlRJuCia70tSyUn8j2G/Vl0kclPstH847arNSODtTFYpE0n0dJbsCN8HiIGTl\n",
       "dpRjPVpGcQ1dPSyOXLX/ogJyp7TNKp2I5HW5OKhX46aSoIybg+sEzW6VhvRp6Tcv0wPEiiKUfAOH\n",
       "/3epFLfBeTE8QoT6hp6e5b84yFn1EgEJHtARpglPDoXbXTCyoQmC1NNGZPSk+tHsgShYX3KD0+nh\n",
       "j77+RKiCRnfY2YCrnmet7HF4298/JIEL6QhHM5ng+M/D7JH6J+L7dmFlmXCwG0VzepywqL4PLb32\n",
       "qVOAu/EHzf33QEZfqXTjEF8gLpG1b6tPMciqCBXNHivLCgKHD390XM8tf0Nekc+EzKg37xWQ1Uax\n",
       "FohHGlXfjlV4q7njqmXBLSrpn6EW9GHO9EEnwdZKUsoYlfU7tDDbXZ/obAWaUsm4myKdaPn6WlqR\n",
       "BB2gtyj9VjcpgeTGibKPJW5L6kjJCZsEE6DU+czcAZmUn9qTFBTsAx+BqpVZB6a7kW0zqM+eSP3G\n",
       "/6eEthQUFXmQF0zWioJRaOonScYqiIINdYB2GFllSJAiWkd68UqeGgxBpOldYSjQ1sN/b/+ZH9Fw\n",
       "Axvjt61TXxdM7+8tHwr7Jbshqy1KOtJfOhW4yLuq4vaSS1JOPOaavfPrtTb5krBszEDkG/HnAMBo\n",
       "aGuWbweIpD2ttwCTP/ZvT1yxiy7DPDqi4mZovqujkwd/FfJucnUEkmxJon1iAgBKXbz1S9Rgil7r\n",
       "thoXvA0dKx9XfOnZ4wN27USDVatQgt9UlW8LAAACWUGfa0URPDv/AApSr15tjwAQAcWsSalcLWXs\n",
       "0cuQIcArFSbJ7NFrL572p1/3rXtoNTmEamKq+rU8JfqYOpdTDbN9A3qIs/bHdDsm2zz4cjpLewDZ\n",
       "ycjTv+25N0/d2ENZopgtzVaotqVOdA2P9EbtGz2vzKTaidQBm6OFo8vYhoQLxG+5hy64MQVlLccd\n",
       "qyBeeycO88MTWiW24TdqzIY2r26U0CLNeh+lEU1Ztv1JRfuGcLY7IbWsWkyXIMBQ1U9FtQAQfaN4\n",
       "dGurU0njbF3kmZ+Yz8AEe8OpbukNjnkGgGyNbky0S/vnyLzkO5EKEFlMYnCV/F+wMqxnsHbsJ+LJ\n",
       "/3RxnqNVneXZ8hXtJ+PO4NJ4qpoF12xzJTOs8q14gvlRDiuC6YZYBhlpU7smUTxaR+tat/kNYoYk\n",
       "w9N5iMf2xhqVHiuG0WcupUlKOOeL4Su/eM+I4hVahFt9ONM2uIdymHn8rFah9nk9axrK/i+vTEXK\n",
       "hiN/u7K1MPNs+uaj6+T+g5FLtZQbJUQHXA2Xo73NO+Ta0gA/51Sy/FVsTwkbiS1hRp82p6ngSeWi\n",
       "u3RVQWRiBYbwJTKtw4i9zvKAEGey0AAx6Kw+AU0lChmYbvLlcs2scbmgA/BTQmnojVjVL2Erch+V\n",
       "5M8F7J9rg+CUerh5RKo/ChWsz8t7BzhmHEcxffDbEuqVksPcxRvt6HcgZ3QQI7Y3Wnjt2nh63sjI\n",
       "HnntJTpAd0QpGLOTW8qWr1AkdE+a2+vx8vidl7qbvcR2GSvTa4MA8P41XF+deZy+6OLokvk7hSJV\n",
       "m6E0ilAAAADiAZ+KdEN/AA2CEzZ5/kz3ciMk6hZRbEF1izRy9i3QZcmXn0fW1Cvs29LuKenDCr/j\n",
       "syz6SdbABD9aEOAJQ2KmOsXP5vdjXcB23oCkLd+IUoWJvGZiD0zKWDFgLA8a1xbAJQV9kxCqXcWH\n",
       "zzUcdvDwB/+PZXD+Pf3J/ZjSRjsbWB+DG5rW1ysNZ1UjS48lk2qOhFjb9zvAJpQRnMVMFT+WymHO\n",
       "u0XCEuH0Olnfgj7wmsIbjRmALVrZDIDgP+cGAhjZjqNm/EUiONSfIiTF4Qczlz73WNDFleFwNZAp\n",
       "Zg1xOwBMwAAAAZMBn4xqQ38ADoFCA6AgQAhOqza9cueliGDGNGAPkQPASbDf1RkaQ4fNf54PajJ4\n",
       "iq0EqGp3HZorbGGvpXfUjDR9D2IHvSbCoi39lO1ZO1weegh4atjiZv0oz16vV0Q52269Tk2JsSe9\n",
       "fQ+ysjAxZFjv0jBjqzTs9mOENrHAcu5CEmzeG7+TPG9Z6BEay3bavh54JSBWbdOU9KF8V8JgErYJ\n",
       "t2LMmTN7160WUqYeYkArxYJ4jdpGazhP6QKDjqEnnXDPzzUpM9deYF3K6TgPyPIqzMXrYMOaatrD\n",
       "ijr4mew/rIQPxEnwMZPYqfYqe6dZwrVZqnWFu/KsAfMvarwThCmvrD8v4ZTWbwul6NjAFquCGwM+\n",
       "Daftd6mv/FYsOKxPRqlo2auIpM3MqkmeWZrwGX/eCH3XcVNbtv0rH+l+S5HRge0QBVx/sSDjHOZN\n",
       "Xq9AjclquK3FoXZI4wHhXmYEsgWyQRnTxfnslaqy+NQA3yPRy1uwO4RerAlOC8l7WpejeIKO5oAs\n",
       "w2QKcnJi9Nivu5cJ7YFBAAAD60GbkUmoQWiZTAgj//61KoACqRxWRVPDAA19F7BtmT6rvX7zNmuF\n",
       "rlMm+kACMAHHcZrPy6LaE/lvLqL74pt6/wTIEHXMAyAmm28f7vH9zjOQutC/2V2QnZkBExUIlF4h\n",
       "Q32nmIuPXa4ptqXAXUjVHEzD+XwirgLdnaFFEdTgZHsb4Xx/y/iG19eCZPic8C0ANv+ktvYAETv/\n",
       "8WaXNfGciXPuV0ZFho/P1PyBVbx/3zervuMygj5qIsUPNwy5Wsjgs2XsaxdWDcEv7tm62gcjxu6b\n",
       "R1rjFX6DqoEDiH1sMVwFDKyIucRGIxKNyKgaRWbuAeWTcapj6gzeiY0GkwpJgta56t06Yj06uvZ/\n",
       "1tA6HyX1jwWG3NHQKr2TuH6x04lviTtc1W5VnE4U3ehHXL6V6FGM+rnngYIReC6cb3CsL83tbICc\n",
       "SjcGlUSX5RcdgBHZMly3LdmsdXikmr/5AvrXKoVknAzQpL7YMD8bbKBMnuzz1PlOfAZDo5+cZKnQ\n",
       "PLpFep/qZgRtU79efFE3vr0czAyCVJltIvxQjcrbMf4bbYqzVOWsOJJsJwsF11IWKROR62vnqiEu\n",
       "Uq/hl44PGxMM39N4MibgiEHMouHbXTw85Mx5fft0FPmMTD25hy+2rY2BYwlmUc3GY3XYkqBrijV0\n",
       "2+Enlj8yWdCOpqEbdcrCEQm5blWf+8Nf6Y/EmFX+SdMyjvBaonUwR4qe59sX4qQUCJOZu5pCqoLo\n",
       "jKofbWCVjOyqmoGWl++kNFPz+noGNEDRUyNKLVLzfvb4loDnX6162FcU4CQgyJWRVKaxrWFol+3v\n",
       "08Y7BXHENdWC/JK9Z7T/Ne0TXfv9yC3eWSi2XWdHMrcldNwzwMlLX88ACSqHCc8CTPJmXuaz/Uvq\n",
       "agNmhsowoBdR/+GSjieCw3ZO10OYxqFlj5U2joE5t02eQ+P12WFwouMw63Tjpc21OSwCTMC/lr9C\n",
       "QM/LQTjbr8fjB1ktPdq8CesZYl29gkbHFsZQByKa4MgXERwWfkmwH7NGW80UxtkrNsJDDaurFD+C\n",
       "3TT7NWjI/P8UsKc+u4SWQEZFDMBLuKwwbQngUTd1nvkXV4aCF7XIVkiv5V7l/MAiT96zv6Cb1RIC\n",
       "WJxteHsc6z44LJlHRWdBaTh8Q1xoqx4Re8FT3dwMTZwndI7HNX1LogmvRclPER0+GDuwugBEpkGK\n",
       "E0+dsNFZA59kkYnXvNkSFaT26xFrxqQjHCyQDgS7VEvFOlZqXKjI/NU/1Rp0GfT9u+VTifpvSX/e\n",
       "Ygpp0WyJwcTElugGHe22A9Zl1edW+88bN6Nob+r/y0Plu1eaDJThDKOAFNycHvrshSRycyUAAAH2\n",
       "QZ+vRREsO/8ACkx+H8KaFC4Fp0PuAD82E8lR/cxdK61HyR68D4XvHaLWdGsrn1cKkfiByMbZx05e\n",
       "MyFAurnPHBkeJWhmAb+CTdFx/P9wykb/EHCDU7rFLOFbKc/NbnWCy0Ihj/rQqyP9QJSKCPynFGCX\n",
       "KQOKX3jd0vqUczVQ5ZQYCMZkdt9Bf96ipbDnDADBcl/774U3MQaWFwbm9rF90jhly3/jXwzH5PQY\n",
       "LjJb/T7FHu7USyIeEOAs9Od5TaATrCVUlzw6paspHHKFqBphXLmsz/FCSF9FmIllT1Yfq342EmNR\n",
       "z7dInSTFe92Lim8KWXbtlQoHjcCPVFfwW11S1hQuKsjuols3Ytev7W7jj6X0ocJpkh33de7Tan1o\n",
       "ButwRi4sNgYpWGuyFO6rqrBwK1hdr4Q6bxlEprHEJGbBq0CT2LEc/y0v/fiMCeVICoWZyUTVKd0m\n",
       "+JzXcRQ3vV9FTc4r0ZoFS4ELd7BMYnezZBdrznhyZEC3nYdHbuZ8wbsODUgqnF7jswRUfaI3e8eW\n",
       "VLPKmpTG972GupCg9Eg6ACBY672nGFKhbZPf/vn51ixyMGyyyV+l1dcc9XzhA1145uJhQB5ikgHJ\n",
       "Mww1nnsHNnbTvAKkrnFBJwr5HZ9D0tNCibnJj5MgiblkobSSkfmL/61Er8JswQAAAWQBn850Q38A\n",
       "Dn8JtfryMXTwtpyQAbJqbij2leqwKnB8MkZJMqG2r5kuMSrkBks9PNuBgezEP45YF6dmHLSpAu9L\n",
       "tsvcn5ZIAGGOjdpRJbe1bJN1a/yYS7vUZU/Fk1TZWLYP9BfxOSP1l97ApSLLPwpnQts/8hOK3yJh\n",
       "UnhtpH50Sd9bBUxTDCaxdb2b4TdGMK4+btyAR1CneuY+4uY1gvLbQwbE4WAyWznO3DGvGBCJLaqJ\n",
       "rwKIkfmfDjMi/+YNYECTaOfdBJvqBYQpwsK7CVWEKrJ8lc29xvj5lEzy9bXKtVkZn8FhbamIEOHf\n",
       "U/ACbMRJPaFwZmGCA5BCdnKobEjT2ZWxx2qVHJ6J8AfvcFu03pLPyf/u3MClf3AopUYneGl77i4o\n",
       "XjcBJ3sz7px5/YErv6NRK6qRcvHc1/IthoEK8qFjZDsiJuvlZ5WZMxQEx2nchjkXv+3lxT4TCHxH\n",
       "TEJuNkAJOAAAASsBn9BqQ38ADnyTSfnrFcAIGI8Lcw+RTLAy80ls302/BhQ5puJcsSiuGqxh3qmW\n",
       "ieQxIDg3izfn91tmZk6PXf7s6wygkkQw3fi6OKHId5NhDf/sE3OITbK7evWk6LSwX3TJbDekH2VL\n",
       "WT1vLMpDECtUeT3nzlckdjxgfmWUEXLugRddtOGDaK51mLQvj+5F7M24fRbYqxPr+Dx1NAjcRSVm\n",
       "jqQ2iu4s+FHBY4v688OdY+LgaEH+M3EFoc6NvpHyb593nOFIlOLkXAugWDVCkCTq4w7+dCFGSaxZ\n",
       "2gJLTgcMQ1Bo5IyrHHNQiBXm/bJBdebLVG4XWi3J1QppJBSGQ2aPBdSu2KSvN6997fjPqnzdQX/g\n",
       "lXvcqF+WQ96FJXuESpukceQK6E5GCADpgAAAA+lBm9VJqEFsmUwIIf/+qlUABW7+2TeH8AC+aflK\n",
       "WLD3UcVRqRmQO4/wMaCgWVVHwRUsFJCU2UZ3gCop/8uCSD0Gg/OmbfcRThZOOsLBgxzltOKirPrv\n",
       "/K83OLYnzOAKHF333wYp0xyhZ8wujsyR75ZGObNqChfEoOpL9aeMpqUhv7mPXdm3DaNJNZow0QuL\n",
       "vaLvqcqx/kn/DbiOoNwpdu+5knuZJDimSBXXrYDnrYuRr8eBPtoFimE0Q2gieGWdsVegOLaAX1Ri\n",
       "ctnjdbfLJf+L3WOF6zd1hsruH5sxXrlFBtMMseSEoVr044Pen2Lc8w7eI9qCP84B8XPTkgA1sgUT\n",
       "vIrCdgRCKjNhzYu5EjuNBnzaIRKJUjHFrT8FSg3sBvBA1Ni6f7WH/NbgfX14IRoI60QGQMhSNwz1\n",
       "3i7IuYG1D5KOG74aAAGROIoupkAD857Q00dT11/nlgzdhju3S9xiqOAUDllE6FKI50I0APj2WRzn\n",
       "TwlYeUEnv78XuCtxE2pkq1BjerpTpuK7FYq5nfH4tcZPJDCpNcrYYxFGUEkOwXOTehKYdkybg/7u\n",
       "gQlWTxDTQT/H2IX8QZlOsG+NQQKrDJ/92wSpIMX2msYtNrskZ0uxuvlEYPZmctvzxkPu5h7R6458\n",
       "m3X4Tl2DSSeOucAoiPmrGaaxBaQmK7PbvlT2Ih0x3amdLGqFnYbdEZP3R3ECDpH64OwzTqMVOKfv\n",
       "f5YEO/NwkmkxavUE+obQxozvYYP5Rm7787PRZq30vgdBdlbAQpwy5d9ALkyzk18lUctthQPmK3ae\n",
       "5MFj3dHlmwwjH/9NYe5IJFYEnTp/EK5Kh2gyGmRsfIqna9QpgQkboduMrCJr3GLEK/SkNBFCYHQM\n",
       "32aH+Njwkv2zaVsuoTtoVBn3S6q6Lqxl/E65Zj4grSlmImhGtoHwzo2AUHfqe6fo9PbAhUwheSg/\n",
       "zBZCXtOjzCSqrWZtCxDaJKniP4GM2DGhWjeVhdf0Pb8QQ95mx9DzpTjFnQhXXuj5lZWnLm8MoUaP\n",
       "w9ov2Ln1xJxrp9uLGFy2qiSivusNHESLnpOGC9+umgDG3yO2UDekNTVNMZcB27Mbnpnqp47tDmhw\n",
       "RZtFgBSdT9EqbM8abC9ntA+Y6TAMuTEcKElxEprfvQ0SGQ+lM5Do0B8S7uKoBvoY6qSbYUsLl2q0\n",
       "Hrctnw5ebRb2BJdr9sIH1vK44W+yOhIP1H0dIJyz30UHGSIso5wNR2/B0sQVnZ/aNDBtO1hg8S/Q\n",
       "S1L3O6tP5UqSZaSHOOUou+bzChEKMGLAEV4bYSeDIgitgky41baGRry/OVa6eKOB1sB8BF9xfMdm\n",
       "26STgQAAAVpBn/NFFSw7/wAKeM2l2IAH8F28TE9QtbaMq5OP4Oo13eVmEqxg4vLrcvWWchOwVp35\n",
       "x8YTV6TFZ9AZLfO5cGWGVfSMnTlJEMq3nmr7Dof3Mff2tll0JyNQRoaSnXw6Ic56WwBchfciNxHk\n",
       "nLWxzmUZvIigP+G7+gUN+9U/vEcHHjtuzluQ65W74EpO4GvMRmSddvPH+ufbgM6mj97ioP5HItpf\n",
       "sauqgbjdksA4JkdfBVGUaTggCGxkTCF8JxXCGgzRVFNnCHeepDZTihdV4aHDH3fceMbcrWrT8C3U\n",
       "7TWjPnpbgx74i+tL+Wi/JESUGwcwSwxZTc1kxr7tc1xOFQYVJaB59RJQEMPLU3jnNJJCv0j8eIPp\n",
       "ol02AzWrQBuTGceSe6AbJlzHaZ/HXq+k2PXWK+PWCiGiEAKNjqXAtPPOEguM5Vgef66C/6HC5lKM\n",
       "N9VqiBTFy4SFTQPWAAABFAGeEnRDfwAO2e0Q5gZkehq6Lo7ImJgBCBSVa9zxTPwBY+p8tolne4vG\n",
       "9JnwAW2ZhxLG5qnFnkH30zQsv8VVy04OXkptFPE9ZEOw86UTl+waO4RaEy9gcb4/2eyhwoUg7eYZ\n",
       "4acnEgpAvjHzu7KlCH78dvTygbWIRz3AhEGVhN/UM+9X20gR65YRZvPyfaO1Bxp461DC8pZBmgTB\n",
       "6sqtKtJ7ooQCmP7i5d9Y+Xi+I8P2xHhenVd+50UISJYg6a4b78sbtqxbq66B3qsGqsR0PG6f3D+y\n",
       "176L56NAMa8WfGbREMJ3ATEBL48pJa3bGvEq/VFEVDhpGe9h3LU9aYsUXIsPeBSusuHSduSKOZmw\n",
       "PUJUQsAS8AAAANEBnhRqQ38ADt/cgA/RrJu7cA+hjEOUOyTJ71/A104sTtgbp6rlc0WTTmQPBDo5\n",
       "FgDkmJTeuSwLiaJDx+ynj5PCoIEc/UV+uJpj9K9rAj6FsdtL5YWLXnqtGDtALnC47LL2CRFBqD/d\n",
       "ZQoMlV1kN3ZhObXHp2Kl83P3ELsjyPUCoODyzXhAhbYJOfu84rYiNTWrmiGlArH1+zJgbxUWdn8O\n",
       "NnJKEJQd8E0gzdg028l4YmRiBtXoGeLmX/7estoXU6OS9M5/wSmJuAZYTkprPb9swQAAAcNBmhZJ\n",
       "qEFsmUwIIf/+qlUABXF3/9ACvzfTVcisy3U88OvX1x9QkOYf+FLiUIaiQRDojesvUM6rILH8vSDR\n",
       "/dYr6Rfh5uvIbPkJtbUbFg0mReksF5gYqRp/3ZJ5mhG5vwNv3i6WmMEZyklO3tR7o0BLBZ0moYzo\n",
       "wdhvnH9fVM/OlMZgIkgWaALdf/brZV713S0K484VsOn7f+t9xs5og7Vvdmq6KswpAT+OQiRYps8j\n",
       "mDFmpliR935zNEEtOGJx7/kw873KAkKI1YjPeJCNiEEwx/3u4YjrDPtxMShowWkxuSyHbbMM/9BD\n",
       "CNU2M99JVk+mDbbXbNBoiZrh5TqWIXln5h7nMf7ejVLQKz6hrE/rxSK7P849uyvMVlZFM4TgeS16\n",
       "nDFUmNpANr6FONvs3NvhgT1jWMREYnuZrEzhB7+qsxPTi9TEQ4bzNzu54io1RXNGDuoLv1iWwMvD\n",
       "HH8oHU+7+0j6WHxNm4RIvuxWDAXALR7qRfA4D7UNUNUAZv9gNLK0awpnwCaVkWydCbDPJBqauDhN\n",
       "yf7IWCK02QCaFE4iVVP9iBu+h0yaw2033rX+kwtl9wRCCFr4UjNM6c2kJHtgAAKaAAABxUGaN0nh\n",
       "ClJlMCCP//61KoACukL/KgAiVJKq9gH8tnZ0ViuM5YQdtoI7hDejmtsh5zla8uf/h+AIZJdxILAm\n",
       "so7KiARNRfvEfisoo3ima7ykZ89DqHNKE9ErXEt0usrrL+RGKgCB6JiKYI6BFrAGw4hTYiYi29xM\n",
       "XF0qEqdcK7PuRxADSibgBWvecx7oDBkKCMlz+3tjWsy7JkANluhGVIWUBWmYGnQYVHSy/5Ji6FrG\n",
       "zN31EGgBwX5Fid6zfvNvETQ1UtDC5Ai1dbP3HjJS1O1OLgVcGVZqvHMo52BhgK2+1n56QAi8CJaG\n",
       "eWek/4cRRuJM0HVCOiMtc5oplUc9+xbqb6o+V3km694iOp+wVppniHRq45MRdbPEqHwL0m+UM+N9\n",
       "D//eo0aO6Bf9baTVHU1Rc7iaYNeOa5vo4snDA/1F3faY++YmAKppWvRDaXwvP6fkqwCk9oTr2foh\n",
       "3GTxv2I3UgjAL786I1+OGlJ3hROdyAhnLyoUP1Da1coj8rWN3RM+y6MZF1qcxqwv8FMbzE8u6zOF\n",
       "uHE1xnQsktzNcSlN6QimWtbyelttIH+0GX2Bnqh+hKy3OzpbLiQWUJuUI6al24AEPQAAAjBBmltJ\n",
       "4Q6JlMCCP/61KoACubGZdGAEYpLFxbUaWtZuQw00RKY1wX8Ark8lINy3mWcZB7lR/9naPtra2tcX\n",
       "lVcbAOuyYHWqVeZ1OjS/hh4mDpomy3ZVvWsvfjLNmXI0rqALWRJKXzdFwDtfZXEHTsI+Akr841/L\n",
       "DbJoFPbce6e91m4Gz9kRoz3XyEmytyJblfScPwlHRKcJOAmzoM4LxJZaifnbTTt7hwsco+02Vfl+\n",
       "jKL4Lwbb0bpZ+cvlwv+31Cn4u4+3HwQ6EskKn3Ke4iD9C0KijIxjNT+lJBqJ3kHG8W6PZGJhRHY9\n",
       "z/TFSBIJFNQpsFmTa1qPknNCs4YKdI7L0wM6hJCNrAOPrFudPY+xo+Dzu4MT2IBPprLwLNJMLy48\n",
       "E1M7miveau37b8x+MbOsD9+PNeV6CgGrPx7io4usptM64PQBiz5RIQHWA0vpOk/os5PbK/6VhBce\n",
       "el4SINLd+TdmOzw/y3OifzwfipZFwr0P6L2bdy3jodqRxiRHXGySY1g5UIcDLAkNn3/tWgXojP26\n",
       "JfbCYiW///IIZ1EEDw7bqAKP9FYCY86R8yOsYJspv8jIlwJi+ok+7iOfojTKy7N30xCipewZZ28F\n",
       "TfVU1SAX0sbbkJlZOjjqeNMkW0Gomc9fd9yG4jL0lAaEvZ+GDkyQKjCpjekt9cRKqvvEjof4jBi7\n",
       "pjtnk5mleELTuNy5o9AhbkXqnFrKJN8bsXw19srrzjZ+ZZKde4liAAB8wQAAAJ1BnnlFETw7/wAK\n",
       "n5qAC6OB3NFlbfSuxdUnwBMUG7FXt7nd1NsgVwV7rwFPoot4afNP8+WbqWgkyLCK8ST87bcbZXcx\n",
       "Dv8mJP5j/Xy4D5yVhEbtZkhEoznpCPdLdpPx6CoWJPKPDkQ5/Prt/IilUgG6CI1Di05npEMIH0vx\n",
       "xa2mSPkTJfDaw04mPzpadYlH/d+ojVeliAvAPeM3QD5gAAAAOwGemHRDfwAO1pwbhMo1UuAG32d4\n",
       "LAnCFPjSgE8qXQzkuO2pve7vRjTUzO4+wEdndxlYCcgbQUEvkgrZAAAANgGemmpDfwAO12yrG0/h\n",
       "+ikhBXhNfa3wgfqwGrFDQuPY7E5uyRHl1wob7CGIQN4GMD6l0oDpgAAAATBBmp9JqEFomUwIIf/+\n",
       "qlUABXGMwEYARij5JLJDxIuQxbN5pElTRBYDilvPaDyp36Df0vARLlCBFgJo1yNVLjfcFfC/SUFO\n",
       "pbCDxGPyzhNK4f6UTpDlSwqla8BkCU83bz+STRvaEIr2jn7yRQ3zA+7OKDdv/LjK1IwzJwoVRYQF\n",
       "JyJ0MCnfvOTIkK11knI6ir6w3BJIxTSbne2RUNSL+6hfergFwTvRVq31EBCCL5AqZDY5KPrYtP/A\n",
       "2VttChDbLMJER3RvbAxIVhP7H1Bo1Mxd2GDop8ZnL9Za4eU3cUMHym7d4B8ECufqJ5gmNh+93rdr\n",
       "lGxM27AX9gJm62UYG66d0IrDalklNcq2E8RJukcQpo/JC2GVxDdCKY0fAcY3EDHggUFSZh5/jYO0\n",
       "eJ4AABUxAAAAPUGevUURLDv/AApTBR86yCO/NwbLG8pxgpB9AJSPpMG6qq+HTgGsNmnHwN2eHJwG\n",
       "UPvNA7zDcFmBZxHOAW0AAAApAZ7cdEN/AA4mnn0dM6aQ3SR1HoLeDViMFG20q321D202UBAQ3xwm\n",
       "B4QAAAAmAZ7eakN/AAfwoQJpuZObfqDJxBZo4YFQYzWnL4JwAgIRQbSgUUAAAACIQZrDSahBbJlM\n",
       "CCH//qpVAAVxcogABdKMV6gBgn5S4cuY28ILFPfqX0gFQrwCDnmvQPl+zvurXSq7WvuZpKnnRVq6\n",
       "z+m6ZCk+vAmie+Y+XWa/1iXiz520sqR0xlkMYXdqBt9l9yMVJfdK9/kD4CWzzfoLWCMQ+5dHsgrR\n",
       "LJs+ObGVq74vuwAGDQAAADBBnuFFFSw7/wAKCY2Ngn8LL1IMQOuwJjwqm4IRkC8yFXStZvDhUz8G\n",
       "YBjAs44QAdUAAAAkAZ8AdEN/AAfvTaZGrKDs2vzgOZKjUtXz5CrSlYVQJSMzwIWBAAAAJgGfAmpD\n",
       "fwAH8KECWPueT6QHTJ7PUuEZhOmJstSRpwEJCukK8DlgAAAAREGbB0moQWyZTAhv//6nhAAqFZ4J\n",
       "qA/hwkzCACHEP/fIHXdYd5iZXJxiM/WJbHXAKTrSisJ4r+IDNy/tgAdVcv6HuGmRAAAALkGfJUUV\n",
       "LDv/AAW5wtphUQv9MeNwkvz1FBBpr8aIQxYVbzIvkRPEBjA3xKDAtoEAAAAlAZ9EdEN/AAfvTaZM\n",
       "/tyfWcK71IV/hPn27fiQA2SYEcDDFk4GDQAAACcBn0ZqQ38AB/ChAlj7nk+kB0yi7WOmNNoGXF4m\n",
       "IHZYIDBB3jA+CRkAAAS/bW9vdgAAAGxtdmhkAAAAAAAAAAAAAAAAAAAD6AAAD6AAAQAAAQAAAAAA\n",
       "AAAAAAAAAAEAAAAAAAAAAAAAAAAAAAABAAAAAAAAAAAAAAAAAABAAAAAAAAAAAAAAAAAAAAAAAAA\n",
       "AAAAAAAAAAAAAAAAAgAAA+l0cmFrAAAAXHRraGQAAAADAAAAAAAAAAAAAAABAAAAAAAAD6AAAAAA\n",
       "AAAAAAAAAAAAAAAAAAEAAAAAAAAAAAAAAAAAAAABAAAAAAAAAAAAAAAAAABAAAAAAfQAAAGQAAAA\n",
       "AAAkZWR0cwAAABxlbHN0AAAAAAAAAAEAAA+gAAAIAAABAAAAAANhbWRpYQAAACBtZGhkAAAAAAAA\n",
       "AAAAAAAAAAAoAAAAoABVxAAAAAAALWhkbHIAAAAAAAAAAHZpZGUAAAAAAAAAAAAAAABWaWRlb0hh\n",
       "bmRsZXIAAAADDG1pbmYAAAAUdm1oZAAAAAEAAAAAAAAAAAAAACRkaW5mAAAAHGRyZWYAAAAAAAAA\n",
       "AQAAAAx1cmwgAAAAAQAAAsxzdGJsAAAAtHN0c2QAAAAAAAAAAQAAAKRhdmMxAAAAAAAAAAEAAAAA\n",
       "AAAAAAAAAAAAAAAAAfQBkABIAAAASAAAAAAAAAABAAAAAAAAAAAAAAAAAAAAAAAAAAAAAAAAAAAA\n",
       "AAAAAAAAGP//AAAAMmF2Y0MBZAAW/+EAGWdkABas2UCAM+fhAAADAAEAAAMAFA8WLZYBAAZo6+PL\n",
       "IsAAAAAcdXVpZGtoQPJfJE/FujmlG88DI/MAAAAAAAAAGHN0dHMAAAAAAAAAAQAAACgAAAQAAAAA\n",
       "FHN0c3MAAAAAAAAAAQAAAAEAAAEAY3R0cwAAAAAAAAAeAAAACgAACAAAAAABAAAUAAAAAAEAAAgA\n",
       "AAAAAQAAAAAAAAABAAAEAAAAAAEAABQAAAAAAQAACAAAAAABAAAAAAAAAAEAAAQAAAAAAQAAFAAA\n",
       "AAABAAAIAAAAAAEAAAAAAAAAAQAABAAAAAACAAAIAAAAAAEAABQAAAAAAQAACAAAAAABAAAAAAAA\n",
       "AAEAAAQAAAAAAQAAFAAAAAABAAAIAAAAAAEAAAAAAAAAAQAABAAAAAABAAAUAAAAAAEAAAgAAAAA\n",
       "AQAAAAAAAAABAAAEAAAAAAEAABQAAAAAAQAACAAAAAABAAAAAAAAAAEAAAQAAAAAHHN0c2MAAAAA\n",
       "AAAAAQAAAAEAAAAoAAAAAQAAALRzdHN6AAAAAAAAAAAAAAAoAAAVaAAAAhcAAAKVAAAD4QAAAmIA\n",
       "AAGoAAAB4AAAAYEAAAHeAAAB0AAABBQAAAJdAAAA5gAAAZcAAAPvAAAB+gAAAWgAAAEvAAAD7QAA\n",
       "AV4AAAEYAAAA1QAAAccAAAHJAAACNAAAAKEAAAA/AAAAOgAAATQAAABBAAAALQAAACoAAACMAAAA\n",
       "NAAAACgAAAAqAAAASAAAADIAAAApAAAAKwAAABRzdGNvAAAAAAAAAAEAAAAsAAAAYnVkdGEAAABa\n",
       "bWV0YQAAAAAAAAAhaGRscgAAAAAAAAAAbWRpcmFwcGwAAAAAAAAAAAAAAAAtaWxzdAAAACWpdG9v\n",
       "AAAAHWRhdGEAAAABAAAAAExhdmY1Ny41Ni4xMDE=\n",
       "\">\n",
       "  Your browser does not support the video tag.\n",
       "</video>"
      ],
      "text/plain": [
       "<matplotlib.animation.FuncAnimation at 0x1c2b2244cc0>"
      ]
     },
     "execution_count": 12,
     "metadata": {},
     "output_type": "execute_result"
    }
   ],
   "source": [
    "fig = plt.figure(dpi=100, figsize=(5, 4))\n",
    "plt.scatter(x,y)\n",
    "line, = plt.plot(x,lin(a_guess,b_guess,x))\n",
    "plt.close()\n",
    "\n",
    "def animate(i):\n",
    "    line.set_ydata(lin(a_guess,b_guess,x))\n",
    "    for i in range(10): upd()\n",
    "    return line,\n",
    "\n",
    "ani = animation.FuncAnimation(fig, animate, np.arange(0, 40), interval=100)\n",
    "ani"
   ]
  },
  {
   "cell_type": "code",
   "execution_count": null,
   "metadata": {
    "collapsed": true
   },
   "outputs": [],
   "source": []
  }
 ],
 "metadata": {
  "anaconda-cloud": {},
  "kernelspec": {
   "display_name": "Python [tf-gpu]",
   "language": "python",
   "name": "Python [tf-gpu]"
  },
  "language_info": {
   "codemirror_mode": {
    "name": "ipython",
    "version": 3
   },
   "file_extension": ".py",
   "mimetype": "text/x-python",
   "name": "python",
   "nbconvert_exporter": "python",
   "pygments_lexer": "ipython3",
   "version": "3.5.3"
  },
  "nav_menu": {},
  "toc": {
   "navigate_menu": true,
   "number_sections": true,
   "sideBar": true,
   "threshold": 6,
   "toc_cell": true,
   "toc_section_display": "block",
   "toc_window_display": false
  },
  "widgets": {
   "state": {},
   "version": "1.1.2"
  }
 },
 "nbformat": 4,
 "nbformat_minor": 1
}
